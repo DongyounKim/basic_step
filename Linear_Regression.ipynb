{
  "nbformat": 4,
  "nbformat_minor": 0,
  "metadata": {
    "colab": {
      "name": "Linear_Regression.ipynb",
      "provenance": [],
      "toc_visible": true,
      "collapsed_sections": [],
      "mount_file_id": "1VvmJVy02L6n7XRGGs8or0FACWToftwfJ",
      "authorship_tag": "ABX9TyMBIlwDDtR/URa0tgSMgDSg",
      "include_colab_link": true
    },
    "kernelspec": {
      "name": "python3",
      "display_name": "Python 3"
    },
    "language_info": {
      "name": "python"
    }
  },
  "cells": [
    {
      "cell_type": "markdown",
      "metadata": {
        "id": "view-in-github",
        "colab_type": "text"
      },
      "source": [
        "<a href=\"https://colab.research.google.com/github/DongyounKim/basic_step/blob/main/Linear_Regression.ipynb\" target=\"_parent\"><img src=\"https://colab.research.google.com/assets/colab-badge.svg\" alt=\"Open In Colab\"/></a>"
      ]
    },
    {
      "cell_type": "markdown",
      "source": [
        ""
      ],
      "metadata": {
        "id": "T6LR3CYZY6pR"
      }
    },
    {
      "cell_type": "code",
      "execution_count": 1,
      "metadata": {
        "colab": {
          "base_uri": "https://localhost:8080/"
        },
        "id": "iKMLno25c-P3",
        "outputId": "ff5d746f-41e2-4459-ef01-dbae49878fef"
      },
      "outputs": [
        {
          "output_type": "stream",
          "name": "stdout",
          "text": [
            "Python 3.7.12\n"
          ]
        }
      ],
      "source": [
        "#Google colab version check\n",
        "!python --version\n",
        "#Check the list of moudules about pytorch\n",
        "##!pip list | grep torch"
      ]
    },
    {
      "cell_type": "markdown",
      "source": [
        "**Reference**\n",
        "\n",
        "This is linear regression model based on \"Full Stack Deep Learning course, Spring 2021\" from https://colab.research.google.com/drive/1HS3qbHArkqFlImT2KnF5pcMCz7ueHNvY?usp=sharing"
      ],
      "metadata": {
        "id": "n0yEZs8XYRyM"
      }
    },
    {
      "cell_type": "code",
      "source": [
        "import numpy as np\n",
        "#Drawing framework\n",
        "import matplotlib.pyplot as plt"
      ],
      "metadata": {
        "id": "LuAj6-SRpBiR"
      },
      "execution_count": 2,
      "outputs": []
    },
    {
      "cell_type": "markdown",
      "source": [
        "# Basic regression\n"
      ],
      "metadata": {
        "id": "oF8eouOIdwDk"
      }
    },
    {
      "cell_type": "markdown",
      "source": [
        "## Generate syntatic data\n"
      ],
      "metadata": {
        "id": "QIR5XWwOeP8w"
      }
    },
    {
      "cell_type": "code",
      "source": [
        "#The number of data\n",
        "n= 100\n",
        "#The dimension of data\n",
        "d=2\n",
        "#Generating synthetic data values\n",
        "x= np.random.uniform(1,5,(n,d))\n",
        "weights_true = np.array([[5, 1],]).T\n",
        "bias_true = np.array([1])\n",
        "# @ is np.matmul\n",
        "y_true = x @ weights_true + bias_true"
      ],
      "metadata": {
        "id": "CnbukcrReZWd"
      },
      "execution_count": 3,
      "outputs": []
    },
    {
      "cell_type": "code",
      "source": [
        "#Drawing function\n",
        "def plot_graph(x,y, y_pred=None):\n",
        "  from mpl_toolkits.mplot3d import Axes3D\n",
        "  fig = plt.figure()\n",
        "  ax = fig.add_subplot(111, projection='3d')\n",
        "  ax.scatter(x[:, 0], x[:, 1], y, label='underlying function')\n",
        "  #Drawing predicted model\n",
        "  if y_pred is not None:\n",
        "    ax.scatter(x[:, 0], x[:, 1], y_pred, label='our function')\n",
        "  plt.legend()"
      ],
      "metadata": {
        "id": "U_vkJClBkWDQ"
      },
      "execution_count": 4,
      "outputs": []
    },
    {
      "cell_type": "markdown",
      "source": [
        "## With a linear model"
      ],
      "metadata": {
        "id": "vwYZ4tHEn5hn"
      }
    },
    {
      "cell_type": "code",
      "source": [
        "class basic_linear:\n",
        "  def __init__(self, input_dim: int, num_hidden: int =1):\n",
        "    self.weight= np.random.randn(input_dim,num_hidden) *np.sqrt(2./input_dim)\n",
        "    self.bias = np.zeros(num_hidden)\n",
        "  def __call__(self,x):\n",
        "    self.x = x\n",
        "    output = x@ self.weight + self.bias\n",
        "    return output\n",
        "  def backward(self,gradient):\n",
        "    self.weight_gradient = self.x.T @ gradient\n",
        "    self.bias_gradient = gradient.sum(axis=0)\n",
        "    #print('backward', gradient.shape, self.weight.T.shape)\n",
        "    self.x_gradient = gradient @ self.weight.T\n",
        "    #print('backward', self.weight_gradient, self.bias_gradient, self.x_gradient)\n",
        "    return self.x_gradient\n",
        "  def update(self, lr):\n",
        "    self.weight = self.weight - lr*self.weight_gradient\n",
        "    self.bias = self.bias - self.bias_gradient\n"
      ],
      "metadata": {
        "id": "lY8r27u0n9mU"
      },
      "execution_count": 5,
      "outputs": []
    },
    {
      "cell_type": "code",
      "source": [
        "#__init__ function ;; declaration of instance of class basic_linear\n",
        "linear=basic_linear(d)\n",
        "#__call__ : call for linear instance\n",
        "y_predict= linear(x)"
      ],
      "metadata": {
        "id": "gX2fZ777JoND"
      },
      "execution_count": 6,
      "outputs": []
    },
    {
      "cell_type": "code",
      "source": [
        "#from numpy.lib.function_base import gradient\n",
        "class MSE:\n",
        "  def __call__(self,y_pred,y_true):\n",
        "    self.y_pred=y_pred\n",
        "    self.y_true=y_true\n",
        "    return((y_pred-y_true)**2).mean()\n",
        "  def backward(self):\n",
        "    n= self.y_true.shape[0]\n",
        "    #print('y_true shape is {}'.format(n))\n",
        "    self.gradient = 2. *(self.y_pred - self.y_true) / n\n",
        "    #print('MSE backward', self.y_pred.shape, self.y_true.shape, self.gradient.shape)\n",
        "    return self.gradient"
      ],
      "metadata": {
        "id": "xKTpAXy-MFEB"
      },
      "execution_count": 7,
      "outputs": []
    },
    {
      "cell_type": "code",
      "source": [
        "from typing import Callable\n",
        "def plot_3d(x, y, y_pred=None):\n",
        "  import matplotlib.pyplot as plt\n",
        "  from mpl_toolkits.mplot3d import Axes3D\n",
        "  fig = plt.figure()\n",
        "  ax = fig.add_subplot(111, projection='3d')\n",
        "  ax.scatter(x[:, 0], x[:, 1], y, label='underlying function')\n",
        "  if y_pred is not None:\n",
        "    ax.scatter(x[:, 0], x[:, 1], y_pred, label='our function')\n",
        "  plt.legend()\n",
        "\n",
        "def fit(x: np.ndarray, y: np.ndarray, model: Callable, loss: Callable, lr: float, num_epochs: int):\n",
        "  for epoch in range(num_epochs):\n",
        "    y_pred = model(x)\n",
        "    loss_value = loss(y_pred, y)\n",
        "    print(f'Epoch {epoch}, loss {loss_value}')\n",
        "    gradient_from_loss = loss.backward()\n",
        "    model.backward(gradient_from_loss)\n",
        "    model.update(lr)"
      ],
      "metadata": {
        "id": "p-f9X2oJW00V"
      },
      "execution_count": 9,
      "outputs": []
    },
    {
      "cell_type": "code",
      "source": [
        "loss=MSE()\n",
        "#print(loss(y_predict,y_true))\n",
        "#loss_gradient = loss.backward()\n",
        "fit(x, y_true, model=linear, loss=loss, lr=0.1, num_epochs=20)\n",
        "plot_3d(x, y_true, linear(x))"
      ],
      "metadata": {
        "colab": {
          "base_uri": "https://localhost:8080/",
          "height": 595
        },
        "id": "am8Fb83EXrK2",
        "outputId": "c0f1ba55-ae7f-4930-e610-188286dbb948"
      },
      "execution_count": 12,
      "outputs": [
        {
          "output_type": "stream",
          "name": "stdout",
          "text": [
            "Epoch 0, loss 7.578771670795105e+92\n",
            "Epoch 1, loss 1.4807362426383961e+94\n",
            "Epoch 2, loss 2.893054330574454e+95\n",
            "Epoch 3, loss 5.652433646617737e+96\n",
            "Epoch 4, loss 1.1043693784717901e+98\n",
            "Epoch 5, loss 2.157710820428582e+99\n",
            "Epoch 6, loss 4.215723539018345e+100\n",
            "Epoch 7, loss 8.236657474750613e+101\n",
            "Epoch 8, loss 1.6092736093449483e+103\n",
            "Epoch 9, loss 3.1441899310163204e+104\n",
            "Epoch 10, loss 6.143101002152429e+105\n",
            "Epoch 11, loss 1.2002356966536039e+107\n",
            "Epoch 12, loss 2.345013905870689e+108\n",
            "Epoch 13, loss 4.581675277663383e+109\n",
            "Epoch 14, loss 8.951651969909209e+110\n",
            "Epoch 15, loss 1.7489688407434705e+112\n",
            "Epoch 16, loss 3.4171257061534104e+113\n",
            "Epoch 17, loss 6.676361419161002e+114\n",
            "Epoch 18, loss 1.3044238237708074e+116\n",
            "Epoch 19, loss 2.5485760958619264e+117\n"
          ]
        },
        {
          "output_type": "display_data",
          "data": {
            "image/png": "[encoded data removed]",
            "text/plain": [
              "<Figure size 432x288 with 1 Axes>"
            ]
          },
          "metadata": {
            "needs_background": "light"
          }
        }
      ]
    },
    {
      "cell_type": "code",
      "source": [
        "# #Declaration of MSE class & No __init__ function\n",
        "# loss=MSE()\n",
        "# print(loss(y_predict,y_true))\n",
        "# loss_gradient = loss.backward()\n",
        "# linear.backward(loss_gradient)\n",
        "# linear.update(0.1)\n",
        "# y_predict= linear(x)\n",
        "# print(loss(y_predict,y_true))"
      ],
      "metadata": {
        "id": "m3vudlxeN_nY"
      },
      "execution_count": null,
      "outputs": []
    },
    {
      "cell_type": "code",
      "source": [
        "b=np.array([5,1]).T\n",
        "a=np.array([1])\n",
        "print(b)"
      ],
      "metadata": {
        "id": "QF0znjsVd9g-"
      },
      "execution_count": null,
      "outputs": []
    },
    {
      "cell_type": "code",
      "source": [
        "#In order to load the boston dataset, use scikit-learn library\n",
        "from sklearn import datasets \n",
        "import pandas as pd\n",
        "#Load the boston house price dataset\n",
        "data_boston = datasets.load_boston()"
      ],
      "metadata": {
        "id": "XqiY-swpc2NQ"
      },
      "execution_count": null,
      "outputs": []
    },
    {
      "cell_type": "code",
      "source": [
        "# x is 1-dimensional\n",
        "\n",
        "n = 50\n",
        "\n",
        "d = 1\n",
        "x = np.random.uniform(-1, 1, (n, d))\n",
        "\n",
        "# y = 5x + 10\n",
        "weights_true = np.array([[5],])\n",
        "bias_true = np.array([10])\n",
        "\n",
        "y_true = x @ weights_true + bias_true\n",
        "print(f'x: {x.shape}, weights: {weights_true.shape}, bias: {bias_true.shape}, y: {y_true.shape}')\n",
        "\n",
        "plt.plot(x, y_true, marker='x', label='underlying function')\n",
        "plt.legend()"
      ],
      "metadata": {
        "id": "qQRosbeAq2bf"
      },
      "execution_count": null,
      "outputs": []
    },
    {
      "cell_type": "code",
      "source": [
        "class Linear:\n",
        "  def __init__(self, input_dim, num_hidden=1):\n",
        "    self.weights = np.random.randn(input,dim, num_hidden)* np.sqrt(2. / input_dim)\n",
        "    self.bias = np.zeros(num_hidden)\n",
        "  def __call__(self,x):\n",
        "    return x @ self.weights + self.bias\n",
        "\n",
        "linear = Linear(d)"
      ],
      "metadata": {
        "id": "1Okamrk7qKLc"
      },
      "execution_count": null,
      "outputs": []
    },
    {
      "cell_type": "code",
      "source": [
        "!git clone link"
      ],
      "metadata": {
        "id": "h_fLDVBsOS9b"
      },
      "execution_count": null,
      "outputs": []
    },
    {
      "cell_type": "code",
      "source": [
        "from google.colab import drive\n",
        "drive.mount('/content/drive')"
      ],
      "metadata": {
        "id": "J9pEWUj4OTD8"
      },
      "execution_count": null,
      "outputs": []
    },
    {
      "cell_type": "code",
      "source": [
        "%cd /content/drive/MyDrive/"
      ],
      "metadata": {
        "id": "0t3vFB7ZO5Ta"
      },
      "execution_count": null,
      "outputs": []
    },
    {
      "cell_type": "markdown",
      "source": [
        "# New Section"
      ],
      "metadata": {
        "id": "m-NtibW0d1At"
      }
    }
  ]
}